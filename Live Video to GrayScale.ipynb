{
 "cells": [
  {
   "cell_type": "code",
   "execution_count": 1,
   "id": "745484e7",
   "metadata": {},
   "outputs": [],
   "source": [
    "import cv2"
   ]
  },
  {
   "cell_type": "markdown",
   "id": "5390c127",
   "metadata": {},
   "source": [
    "<b>Capture From Webcam</b>\n",
    "<p>Capturing frame by frame of live webcam function</p>"
   ]
  },
  {
   "cell_type": "code",
   "execution_count": 2,
   "id": "a1cfd39e",
   "metadata": {},
   "outputs": [],
   "source": [
    "cap = cv2.VideoCapture(0)"
   ]
  },
  {
   "cell_type": "markdown",
   "id": "8b63007d",
   "metadata": {},
   "source": [
    "## Showing live\n",
    "\n"
   ]
  },
  {
   "cell_type": "markdown",
   "id": "cadee644",
   "metadata": {},
   "source": [
    "Capturing each frame then fliping them horizontally.\n",
    "<br>Showing live video"
   ]
  },
  {
   "cell_type": "code",
   "execution_count": 3,
   "id": "83864643",
   "metadata": {},
   "outputs": [],
   "source": [
    "while True:\n",
    "    ret, frame = cap.read()                          #capture frame\n",
    "    grayImg =cv2.cvtColor(frame, cv2.COLOR_BGR2GRAY) #Convert to GrayScale\n",
    "    img180 = cv2.flip(grayImg,1)                     #flip horizontally\n",
    "    cv2.imshow('Input', img180)                      #show each frame\n",
    "    if cv2.waitKey(1) & 0xFF == ord('q'):            #to exit press q\n",
    "        break\n",
    "        \n",
    "cap.release()                                        #release the webcam\n",
    "cv2.destroyAllWindows()"
   ]
  }
 ],
 "metadata": {
  "kernelspec": {
   "display_name": "Python 3",
   "language": "python",
   "name": "python3"
  },
  "language_info": {
   "codemirror_mode": {
    "name": "ipython",
    "version": 3
   },
   "file_extension": ".py",
   "mimetype": "text/x-python",
   "name": "python",
   "nbconvert_exporter": "python",
   "pygments_lexer": "ipython3",
   "version": "3.8.8"
  }
 },
 "nbformat": 4,
 "nbformat_minor": 5
}
