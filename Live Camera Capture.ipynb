{
 "cells": [
  {
   "cell_type": "markdown",
   "id": "c83d3961",
   "metadata": {},
   "source": [
    "\n",
    "# Live Camera Capture"
   ]
  },
  {
   "cell_type": "code",
   "execution_count": 1,
   "id": "c27fac61",
   "metadata": {},
   "outputs": [],
   "source": [
    "import cv2"
   ]
  },
  {
   "cell_type": "markdown",
   "id": "8dd99940",
   "metadata": {},
   "source": [
    "<b>Capture From Webcam</b>\n",
    "<p>Capturing frame by frame of live webcam function</p>"
   ]
  },
  {
   "cell_type": "code",
   "execution_count": 2,
   "id": "46b1679b",
   "metadata": {},
   "outputs": [],
   "source": [
    "cap = cv2.VideoCapture(0)"
   ]
  },
  {
   "cell_type": "markdown",
   "id": "34d66420",
   "metadata": {},
   "source": [
    "## Showing live"
   ]
  },
  {
   "cell_type": "markdown",
   "id": "ef163204",
   "metadata": {},
   "source": [
    "Capturing each frame then fliping them horizontally.\n",
    "<br>Showing live video"
   ]
  },
  {
   "cell_type": "code",
   "execution_count": 3,
   "id": "a3f8f41f",
   "metadata": {},
   "outputs": [],
   "source": [
    "while True:\n",
    "    ret, frame = cap.read()\n",
    "    img180 = cv2.flip(frame,1)\n",
    "    cv2.imshow('Input', img180)\n",
    "    if cv2.waitKey(1) & 0xFF == ord('q'):\n",
    "        break\n",
    "        \n",
    "cap.release()\n",
    "cv2.destroyAllWindows()"
   ]
  }
 ],
 "metadata": {
  "kernelspec": {
   "display_name": "Python 3",
   "language": "python",
   "name": "python3"
  },
  "language_info": {
   "codemirror_mode": {
    "name": "ipython",
    "version": 3
   },
   "file_extension": ".py",
   "mimetype": "text/x-python",
   "name": "python",
   "nbconvert_exporter": "python",
   "pygments_lexer": "ipython3",
   "version": "3.8.8"
  }
 },
 "nbformat": 4,
 "nbformat_minor": 5
}
